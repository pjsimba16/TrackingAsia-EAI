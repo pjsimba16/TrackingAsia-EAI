{
 "cells": [
  {
   "cell_type": "markdown",
   "id": "3523cc6a",
   "metadata": {},
   "source": [
    "## Guide on Python Installation\n",
    "\n",
    "### System Requirements\n",
    "\n",
    "* Operating System: Windows 10 version 17763.0 or higher; macOS 10.9 (Mavericks) and later systems\n",
    "* Architecture: x64 (64-bit)\n",
    "* RAM: At least 4 GB of RAM\n",
    "* CPU: x86 64-bit CPU, which includes Intel and AMD architectures. ARM CPUs are not supported\n",
    "\n",
    "These requirements are necessary to ensure a smooth installation and operation of Python 3.8 on your machine. It's important to note that these requirements may vary slightly depending on the specific distribution or installer you use, but the information provided here is a general guideline for Python 3.8 on Windows.\n",
    "\n",
    "[Reference: More info](https://askai.glarity.app/search/What-are-the-system-requirements-for-installing-Python-3-8-on-a-Windows-operating-system)"
   ]
  },
  {
   "cell_type": "markdown",
   "id": "4c31f0c0",
   "metadata": {},
   "source": [
    "### I. Python3 Installation\n",
    "\n",
    "#### For Windows\n",
    "1. Visit the official download page for Python on the Windows operating system: https://www.python.org/downloads/windows/ and locate a reliable version of Python 3, preferably the Python 3.11.8 version\n",
    "2. Choose the correct link for your device from the options provided: preferably Windows installer (64-bit) and proceed to download the executable file.\n",
    "3. Once you have downloaded the installer, open the .exe file, such as python-3.11.8-amd64.exe, by double-clicking it to launch the Python installer.\n",
    "    * Choose the option to Install the launcher for all users by checking the corresponding checkbox, so that all users of the computer can access the Python launcher application.\n",
    "    * Enable users to run Python from the command line by checking the Add python.exe to PATH checkbox.\n",
    "\n",
    "<img src= \"https://media.geeksforgeeks.org/wp-content/uploads/20230503122459/p1.jpg\" alt=\"Python Installation\" title=\"Python Installation\" width=\"500\"/>\n",
    "\n",
    "6. After Clicking the Install Now Button the setup will start installing Python on your Windows system.\n",
    "7. To verify successful installation, access the command line, click on the Start menu and type “cmd” in the search bar. Then click on Command Prompt. Type “python --version” on the command line. \n",
    "\n",
    "<img src= \"https://media.geeksforgeeks.org/wp-content/uploads/20230503123238/p4.png\" alt=\"Python Installation Confirmation\" title=\"Python Installation Confirmation\" width=\"500\"/>\n",
    "\n",
    "\n",
    "[Reference: More info](https://www.geeksforgeeks.org/how-to-install-python-on-windows/?ref=ml_lbp)\n",
    "\n",
    "\n",
    "\n",
    "#### For MacOS\n",
    "1. Download an installer package from https://www.python.org/downloads/; it detects your operating system automatically and shows a big button for downloading the latest version of Python installer on your Mac. If it doesn't, click the macOS link and choose the latest Python release.\n",
    "\n",
    "2. Once the download is complete, double-click the package to start installing Python. The installer will walk you through a wizard to complete the installation, and in most cases, the default settings work well, so install it like the other applications on macOS. You may also have to enter your Mac password to let it know that you agree with installing Python. NOTE If you're using Apple M1 Mac, you need to install Rosetta. Rosetta enables Intel-based features to run on Apple silicon Macs.\n",
    "\n",
    "<img src=\"https://www.dataquest.io/wp-content/uploads/2022/01/installing-python-on-mac-screenshot-r.webp\" alt=\"Install Python Mac\" title=\"Install Python Mac\" width=\"500\"/>\n",
    "\n",
    "3. When the installation completes, it will open up the Python folder.\n",
    "<img src=\"https://www.dataquest.io/wp-content/uploads/2022/01/installing-python-on-mac-screenshot-q.webp\"\n",
    "alt=\"Install Python Mac2\" title=\"Install Python Mac2\" width=\"500\"/> \n",
    "     \n",
    "4. Let’s verify that the latest version of Python and IDLE installed correctly. To do that, double-click IDLE, which is the integrated development environment shipped with Python. If everything works correctly, IDLE shows the Python shell as follows\n",
    "\n",
    "<img src=\"https://www.dataquest.io/wp-content/uploads/2022/01/installing-python-on-mac-screenshot-p.webp\"\n",
    "alt=\"Install Python Mac3\" title=\"Install Python Mac3\" width=\"500\"/> \n",
    "\n",
    "[Reference: More info](https://www.dataquest.io/blog/installing-python-on-mac/)"
   ]
  },
  {
   "cell_type": "markdown",
   "id": "906b6c6d",
   "metadata": {},
   "source": [
    "### II.  Visual Studio Code Installation\n",
    "\n",
    "#### For Windows\n",
    "Visual Studio Code (VSCode) serves as a versatile code editor that supports a wide range of programming languages and development tasks. VSCode is used to streamline and enhance the coding process, making it easier to write, debug, and manage code.\n",
    "1. Download the Visual Studio Code installer for Windows: https://code.visualstudio.com/docs?dv=win\n",
    "2. Once it is downloaded, run the installer (VSCodeUserSetup-{version}.exe). This will only take a minute.\n",
    "\n",
    "#### For MacOS\n",
    "Visual Studio Code (VSCode) serves as a versatile code editor that supports a wide range of programming languages and development tasks. VSCode is used to streamline and enhance the coding process, making it easier to write, debug, and manage code.\n",
    "1. Download Visual Studio Code for macOS: https://code.visualstudio.com/docs?dv=osx\n",
    "2. Open the browser's download list and locate the downloaded app or archive.\n",
    "3. If archive, extract the archive contents. Use double-click for some browsers or select the 'magnifying glass' icon with Safari.\n",
    "4. Drag Visual Studio Code.app to the Applications folder, making it available in the macOS Launchpad.\n",
    "<img src=\"https://www.dataquest.io/wp-content/uploads/2022/01/installing-python-on-mac-screenshot-k.webp\"\n",
    "alt=\"VSCode\" title=\"VSCode\" width=\"500\"/> \n",
    "  \n",
    " \n",
    "5. Open VS Code from the Applications folder, by double clicking the icon."
   ]
  },
  {
   "cell_type": "markdown",
   "id": "25a41690",
   "metadata": {},
   "source": [
    "### III. Register for PySimpleGUI\n",
    "PySimpleGUI is a Python library that simplifies the creation of graphical user interfaces (GUIs). \n",
    "1. Register as a hobbyist in PySimpleGUI by selecting “Get Started as Hobbyist”: https://www.pysimplegui.com/pricing\n",
    "2. Fill in details to create an account as a hobbyist and confirm all terms and conditions (Note: GitHub ID is optional)  \n",
    "3. Enter verification code sent to registered email\n",
    "4. Copy the license key provided \n",
    "5. The first time you run PySimpleGUI you will see a series of windows beginning with this Welcome Window. Check the terms and click OK.\n",
    "\n",
    "<img src=\"https://docs.pysimplegui.com/en/latest/documentation/installing_licensing/install1.jpg\" alt=\"PySimpleGUI welcome page\" title=\"PySimpleGUI welcome page\" width=\"500\"/>\n",
    "\n",
    "6. The final step is to paste your license key on the panel.\n",
    "\n",
    "<img src=\"https://docs.pysimplegui.com/en/latest/documentation/installing_licensing/install2.jpg\" alt=\"PySimpleGUI license key\" title=\"PySimpleGUI License Key\" width=\"500\"/>"
   ]
  }
 ],
 "metadata": {
  "kernelspec": {
   "display_name": "Python 3 (ipykernel)",
   "language": "python",
   "name": "python3"
  },
  "language_info": {
   "codemirror_mode": {
    "name": "ipython",
    "version": 3
   },
   "file_extension": ".py",
   "mimetype": "text/x-python",
   "name": "python",
   "nbconvert_exporter": "python",
   "pygments_lexer": "ipython3",
   "version": "3.9.0"
  }
 },
 "nbformat": 4,
 "nbformat_minor": 5
}
